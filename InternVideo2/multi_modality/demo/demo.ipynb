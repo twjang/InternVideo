{
 "cells": [
  {
   "cell_type": "code",
   "execution_count": 1,
   "metadata": {
    "scrolled": true
   },
   "outputs": [
    {
     "name": "stdout",
     "output_type": "stream",
     "text": [
      "/opt/src/intern_video/InternVideo2/multi_modality\n"
     ]
    }
   ],
   "source": [
    "import numpy as np\n",
    "import os\n",
    "import io\n",
    "import cv2\n",
    "\n",
    "import torch\n",
    "\n",
    "import sys\n",
    "PATH_ROOT=os.path.realpath(os.path.join(os.curdir, '..'))\n",
    "sys.path.append(PATH_ROOT)\n",
    "print(PATH_ROOT)\n"
   ]
  },
  {
   "cell_type": "code",
   "execution_count": 2,
   "metadata": {},
   "outputs": [],
   "source": [
    "for m in ['demo_config', 'demo_utils']:\n",
    "    if m in sys.modules:\n",
    "        del sys.modules[m]"
   ]
  },
  {
   "cell_type": "code",
   "execution_count": 3,
   "metadata": {},
   "outputs": [
    {
     "name": "stdout",
     "output_type": "stream",
     "text": [
      "[2024-05-21 16:40:22,420] [INFO] [real_accelerator.py:158:get_accelerator] Setting ds_accelerator to cuda (auto detect)\n"
     ]
    }
   ],
   "source": [
    "\n",
    "from demo_config import (Config,\n",
    "                    eval_dict_leaf)\n",
    "\n",
    "from demo_utils import (retrieve_text,\n",
    "                  _frame_from_video,\n",
    "                  setup_internvideo2)\n"
   ]
  },
  {
   "cell_type": "code",
   "execution_count": 4,
   "metadata": {},
   "outputs": [],
   "source": [
    "video = cv2.VideoCapture('example1.mp4')\n",
    "frames = [x for x in _frame_from_video(video)]"
   ]
  },
  {
   "cell_type": "code",
   "execution_count": 5,
   "metadata": {},
   "outputs": [],
   "source": [
    "text_candidates = [\"A playful dog and its owner wrestle in the snowy yard, chasing each other with joyous abandon.\",\n",
    "                   \"A man in a gray coat walks through the snowy landscape, pulling a sleigh loaded with toys.\",\n",
    "                   \"A person dressed in a blue jacket shovels the snow-covered pavement outside their house.\",\n",
    "                   \"A pet dog excitedly runs through the snowy yard, chasing a toy thrown by its owner.\",\n",
    "                   \"A person stands on the snowy floor, pushing a sled loaded with blankets, preparing for a fun-filled ride.\",\n",
    "                   \"A man in a gray hat and coat walks through the snowy yard, carefully navigating around the trees.\",\n",
    "                   \"A playful dog slides down a snowy hill, wagging its tail with delight.\",\n",
    "                   \"A person in a blue jacket walks their pet on a leash, enjoying a peaceful winter walk among the trees.\",\n",
    "                   \"A man in a gray sweater plays fetch with his dog in the snowy yard, throwing a toy and watching it run.\",\n",
    "                   \"A person bundled up in a blanket walks through the snowy landscape, enjoying the serene winter scenery.\"]"
   ]
  },
  {
   "cell_type": "code",
   "execution_count": 6,
   "metadata": {},
   "outputs": [],
   "source": [
    "config = Config.from_file('internvideo2_stage2_config.py')\n",
    "config = eval_dict_leaf(config)"
   ]
  },
  {
   "cell_type": "code",
   "execution_count": 7,
   "metadata": {},
   "outputs": [],
   "source": [
    "model_pth = '/cwd/weights/pretrained/InternVideo2-stage2_1b-224p-f4.pt'\n",
    "config['pretrained_path'] = model_pth\n",
    "config['model']['vision_encoder']['pretrained']='/cwd/weights/pretrained/InternVideo2-stage2_1b-224p-f4.pt'\n",
    "config['model']['text_encoder']['config']='../configs/config_bert_large.json'"
   ]
  },
  {
   "cell_type": "code",
   "execution_count": 8,
   "metadata": {},
   "outputs": [
    {
     "name": "stderr",
     "output_type": "stream",
     "text": [
      "/opt/conda/envs/py310/lib/python3.10/site-packages/huggingface_hub/file_download.py:1132: FutureWarning: `resume_download` is deprecated and will be removed in version 1.0.0. Downloads always resume when possible. If you want to force a new download, use `force_download=True`.\n",
      "  warnings.warn(\n"
     ]
    },
    {
     "name": "stdout",
     "output_type": "stream",
     "text": [
      "bert tokenizer loaded\n",
      "vision encoder built\n",
      "text encoder built\n",
      "intern video2 stage2 loaded\n",
      "sending model to cuda\n",
      "model sent to cuda\n",
      "loading model from /cwd/weights/pretrained/InternVideo2-stage2_1b-224p-f4.pt\n",
      "interpolating position embedding.. \n",
      "load_state_dict: _IncompatibleKeys(missing_keys=[], unexpected_keys=['temp', 'itm_head.weight', 'itm_head.bias'])\n",
      "model type conversion..\n",
      "model type converted\n"
     ]
    }
   ],
   "source": [
    "intern_model, tokenizer = setup_internvideo2(config)"
   ]
  },
  {
   "cell_type": "code",
   "execution_count": 9,
   "metadata": {},
   "outputs": [
    {
     "name": "stdout",
     "output_type": "stream",
     "text": [
      "1\n"
     ]
    }
   ],
   "source": [
    "intern_model.eval()\n",
    "intern_model.cuda()\n",
    "print(1)"
   ]
  },
  {
   "cell_type": "code",
   "execution_count": 10,
   "metadata": {},
   "outputs": [
    {
     "name": "stdout",
     "output_type": "stream",
     "text": [
      "torch.Size([1, 4, 3, 224, 224])\n",
      "text: A man in a gray sweater plays fetch with his dog in the snowy yard, throwing a toy and watching it run. ~ prob: 0.7927\n",
      "text: A playful dog and its owner wrestle in the snowy yard, chasing each other with joyous abandon. ~ prob: 0.1769\n",
      "text: A pet dog excitedly runs through the snowy yard, chasing a toy thrown by its owner. ~ prob: 0.0291\n",
      "text: A man in a gray hat and coat walks through the snowy yard, carefully navigating around the trees. ~ prob: 0.0006\n",
      "text: A person dressed in a blue jacket shovels the snow-covered pavement outside their house. ~ prob: 0.0003\n"
     ]
    }
   ],
   "source": [
    "texts, probs = retrieve_text(frames, text_candidates, model=intern_model, topk=5, config=config)\n",
    "\n",
    "for t, p in zip(texts, probs):\n",
    "    print(f'text: {t} ~ prob: {p:.4f}')"
   ]
  },
  {
   "cell_type": "code",
   "execution_count": 11,
   "metadata": {},
   "outputs": [],
   "source": [
    "import torch_tensorrt\n",
    "\n",
    "import torch\n",
    "from torch import nn"
   ]
  },
  {
   "cell_type": "code",
   "execution_count": 12,
   "metadata": {},
   "outputs": [],
   "source": [
    "class VideoEncoder(nn.Module):\n",
    "    def __init__(self, vlm: nn.Module):\n",
    "        super().__init__()\n",
    "        self.vlm = vlm\n",
    "\n",
    "    def forward(self, frames: torch.Tensor):\n",
    "        _, vfeat = self.vlm.encode_vision(frames, test=True)\n",
    "        vfeat = self.vlm.vision_proj(vfeat)\n",
    "        vfeat /= vfeat.norm(dim=-1, keepdim=True)\n",
    "        return vfeat\n",
    "\n",
    "video_encoder = VideoEncoder(intern_model)\n",
    "video_encoder.eval()\n",
    "input_data = torch.empty([1, 4, 3, 224, 224]).cuda()\n",
    "traced_video_encoder = torch.jit.trace(video_encoder, input_data)\n",
    "# print(traced_video_encoder)"
   ]
  },
  {
   "cell_type": "code",
   "execution_count": 13,
   "metadata": {},
   "outputs": [
    {
     "name": "stdout",
     "output_type": "stream",
     "text": [
      "<class 'torch.jit._trace.TopLevelTracedModule'>\n"
     ]
    }
   ],
   "source": [
    "print(traced_video_encoder.__class__)"
   ]
  },
  {
   "cell_type": "code",
   "execution_count": 17,
   "metadata": {},
   "outputs": [],
   "source": [
    "frozen_traced_video_encoder = torch.jit.optimize_for_inference(traced_video_encoder)\n",
    "torch.jit.save(traced_video_encoder, '/cwd/video_encoder.pt')"
   ]
  },
  {
   "cell_type": "code",
   "execution_count": 22,
   "metadata": {},
   "outputs": [
    {
     "data": {
      "text/plain": [
       "tensor([[ 0.0716,  0.0473, -0.0347,  0.0136,  0.0743,  0.0895, -0.0271,  0.0458,\n",
       "         -0.0419,  0.0484, -0.0265, -0.0260, -0.0154, -0.0332,  0.0334, -0.0044,\n",
       "         -0.1580,  0.0580,  0.1798,  0.0084, -0.0402, -0.0150, -0.0090, -0.0078,\n",
       "         -0.0389, -0.0400, -0.0363,  0.0075,  0.0159, -0.0059,  0.0341,  0.0359,\n",
       "         -0.0045, -0.0185, -0.0415, -0.0027,  0.0067,  0.0658, -0.0512,  0.0339,\n",
       "         -0.0149, -0.0072, -0.0648,  0.0451,  0.0149, -0.0085, -0.0425,  0.0435,\n",
       "         -0.0036,  0.0202,  0.0028,  0.0214, -0.0170,  0.0375, -0.0155,  0.0951,\n",
       "         -0.0441, -0.0542, -0.0451,  0.0061,  0.0083, -0.0012, -0.0908,  0.0134,\n",
       "          0.0589,  0.0200, -0.0386,  0.0039, -0.0962,  0.0124,  0.0089, -0.0414,\n",
       "          0.0713,  0.0161, -0.0447, -0.0038, -0.0113, -0.0551,  0.1673, -0.0665,\n",
       "         -0.0295,  0.0309, -0.0558,  0.0033, -0.0371, -0.0204,  0.0160, -0.0069,\n",
       "         -0.0563, -0.0793, -0.0061,  0.0077, -0.0218, -0.0442,  0.0552, -0.0440,\n",
       "         -0.0338, -0.0133, -0.0307,  0.0068, -0.0277,  0.0518, -0.0117,  0.0059,\n",
       "         -0.0318, -0.0107,  0.0176, -0.0092, -0.0199,  0.0626, -0.0177,  0.0013,\n",
       "         -0.0420,  0.0215,  0.0174,  0.0562,  0.0155,  0.0061, -0.0332,  0.1206,\n",
       "         -0.0380,  0.0069,  0.0372,  0.0182,  0.0240, -0.0037, -0.0046,  0.1259,\n",
       "          0.0201, -0.0263,  0.0440, -0.0181, -0.0231,  0.0172,  0.0324,  0.0230,\n",
       "          0.0445, -0.0558, -0.0342,  0.0266, -0.0023, -0.0391,  0.0017,  0.0447,\n",
       "          0.0255, -0.0932,  0.0419,  0.0349, -0.0059, -0.0363,  0.0180,  0.0245,\n",
       "         -0.0438,  0.0087, -0.0425, -0.0814,  0.0260,  0.0416,  0.0074, -0.0462,\n",
       "          0.0076, -0.0328, -0.0080,  0.0037, -0.0154, -0.0036, -0.0123,  0.0188,\n",
       "          0.0115, -0.0010,  0.0466,  0.0494, -0.0092,  0.0233,  0.1731,  0.0194,\n",
       "          0.0226,  0.0250, -0.0152,  0.0085, -0.0301, -0.0606,  0.0786,  0.0061,\n",
       "         -0.0252,  0.0219, -0.0648, -0.0013,  0.0124, -0.0009,  0.0423, -0.0846,\n",
       "         -0.0051,  0.0146,  0.0460, -0.0111,  0.0040,  0.0138, -0.0255,  0.0290,\n",
       "          0.0009,  0.0513, -0.0069, -0.0135, -0.0796, -0.0296, -0.0129,  0.0136,\n",
       "          0.0755, -0.0135, -0.0036, -0.0027,  0.0040,  0.0107, -0.0098, -0.0494,\n",
       "          0.0319,  0.0141, -0.0220, -0.0673, -0.0601, -0.0078,  0.0066,  0.0052,\n",
       "         -0.0011,  0.0192,  0.0628, -0.0197,  0.0115, -0.0385,  0.0354,  0.0019,\n",
       "          0.0082, -0.0127,  0.0024,  0.0431,  0.0383,  0.0352,  0.0120, -0.0031,\n",
       "          0.0757, -0.0058,  0.0009, -0.0601, -0.0382, -0.0417,  0.0227,  0.0225,\n",
       "         -0.0430,  0.0334, -0.0610,  0.0187, -0.0491,  0.0176,  0.0343, -0.0898,\n",
       "         -0.0411,  0.0166,  0.0376,  0.2313,  0.0187,  0.0527, -0.0220, -0.0093,\n",
       "          0.1190, -0.0281, -0.0273,  0.0878,  0.0237,  0.0063,  0.0246, -0.0218,\n",
       "         -0.0355,  0.0376, -0.0312,  0.0088, -0.0146,  0.0064,  0.0027, -0.0272,\n",
       "          0.0408, -0.0633, -0.0575,  0.0501, -0.0962,  0.0571, -0.0120, -0.0382,\n",
       "         -0.0234, -0.0622,  0.0380,  0.0288, -0.0071, -0.0040, -0.0658,  0.0543,\n",
       "          0.0566, -0.0251, -0.0242, -0.0242, -0.0629, -0.0278,  0.0147,  0.0460,\n",
       "          0.0122,  0.0842,  0.0358, -0.0386,  0.0251,  0.0329,  0.0450, -0.0064,\n",
       "         -0.0530, -0.0370,  0.0285,  0.0019,  0.0159,  0.0187,  0.0051,  0.0943,\n",
       "          0.0227,  0.0396,  0.0520,  0.0701, -0.0209,  0.0389,  0.0329, -0.0442,\n",
       "         -0.0292, -0.0064,  0.0240, -0.0075,  0.1263,  0.0061,  0.0116,  0.0199,\n",
       "          0.0703,  0.0245,  0.0037, -0.0617, -0.2297,  0.0022, -0.0368, -0.0461,\n",
       "         -0.0012, -0.0643,  0.0092, -0.0309,  0.0182,  0.1862, -0.0028, -0.0237,\n",
       "          0.0137, -0.0192,  0.0433,  0.0463,  0.0222,  0.0722, -0.0325, -0.0328,\n",
       "         -0.0098,  0.0116, -0.0162,  0.0005,  0.0086,  0.0790,  0.0008,  0.0090,\n",
       "          0.0689,  0.0177, -0.0398, -0.0197,  0.0362,  0.0132,  0.0469, -0.0375,\n",
       "          0.0696, -0.0018,  0.0132, -0.0195,  0.0109,  0.0224, -0.0630,  0.0565,\n",
       "          0.0183,  0.0232,  0.0703,  0.0034,  0.0322, -0.0304,  0.0198, -0.0235,\n",
       "         -0.0319, -0.0152, -0.0246,  0.0201, -0.0091,  0.0028,  0.0037, -0.0171,\n",
       "          0.0158, -0.0454, -0.0274,  0.0206, -0.0032,  0.0017,  0.0322, -0.0509,\n",
       "         -0.0263, -0.0044, -0.0813, -0.0022,  0.0725, -0.0710, -0.0140, -0.0319,\n",
       "          0.0133, -0.0373,  0.0389, -0.0021,  0.0125,  0.0324, -0.0170, -0.0142,\n",
       "          0.0168,  0.0252, -0.0721, -0.0296,  0.0215, -0.0419, -0.0125,  0.0394,\n",
       "         -0.0150, -0.0135, -0.0209, -0.0139, -0.0184,  0.0485, -0.0015,  0.0378,\n",
       "         -0.0531,  0.0170,  0.0669, -0.0015,  0.0080, -0.0054,  0.0992,  0.0703,\n",
       "         -0.0130, -0.0024, -0.0064,  0.0566,  0.0364,  0.0582,  0.0299,  0.0284,\n",
       "          0.0682,  0.0066,  0.0112, -0.0360, -0.0049, -0.0144, -0.0177, -0.0084,\n",
       "         -0.0175, -0.0306,  0.0147, -0.0261, -0.0060,  0.0263,  0.0669, -0.0933,\n",
       "          0.0387,  0.0445,  0.0795,  0.0339,  0.0083,  0.0566, -0.0109, -0.0197,\n",
       "         -0.0076, -0.0125,  0.0043, -0.0522, -0.0239, -0.0004,  0.0431, -0.0045,\n",
       "          0.0638, -0.0693,  0.0251,  0.0796,  0.0278,  0.0018, -0.0232, -0.0177,\n",
       "          0.0146,  0.0182, -0.0692, -0.0449,  0.0231, -0.0606,  0.0007,  0.0051,\n",
       "         -0.0155, -0.0187,  0.0168,  0.0374, -0.0292, -0.0153, -0.0513,  0.0330]],\n",
       "       device='cuda:0')"
      ]
     },
     "execution_count": 22,
     "metadata": {},
     "output_type": "execute_result"
    }
   ],
   "source": [
    "#trt_model = torch_tensorrt.compile(frozen_traced_video_encoder,\n",
    "#    inputs= [torch_tensorrt.Input((1, 4, 3, 224, 224))],\n",
    "#    enabled_precisions= { torch.half }, # Run with FP32\n",
    "#    truncate_long_and_double=True,\n",
    "#)\n",
    "frozen_traced_video_encoder(torch.zeros(1,4,3,224,224).cuda())"
   ]
  }
 ],
 "metadata": {
  "kernelspec": {
   "display_name": "Python 3 (ipykernel)",
   "language": "python",
   "name": "python3"
  },
  "language_info": {
   "codemirror_mode": {
    "name": "ipython",
    "version": 3
   },
   "file_extension": ".py",
   "mimetype": "text/x-python",
   "name": "python",
   "nbconvert_exporter": "python",
   "pygments_lexer": "ipython3",
   "version": "3.10.14"
  }
 },
 "nbformat": 4,
 "nbformat_minor": 4
}
